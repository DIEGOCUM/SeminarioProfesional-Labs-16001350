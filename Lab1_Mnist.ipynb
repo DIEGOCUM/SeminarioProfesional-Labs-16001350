{
  "nbformat": 4,
  "nbformat_minor": 0,
  "metadata": {
    "colab": {
      "name": "Lab1-Mnist ",
      "provenance": [],
      "collapsed_sections": [],
      "machine_shape": "hm",
      "include_colab_link": true
    },
    "kernelspec": {
      "name": "python3",
      "display_name": "Python 3"
    }
  },
  "cells": [
    {
      "cell_type": "markdown",
      "metadata": {
        "id": "view-in-github",
        "colab_type": "text"
      },
      "source": [
        "<a href=\"https://colab.research.google.com/github/DIEGOCUM/SeminarioProfesional-Labs-16001350/blob/master/Lab1_Mnist.ipynb\" target=\"_parent\"><img src=\"https://colab.research.google.com/assets/colab-badge.svg\" alt=\"Open In Colab\"/></a>"
      ]
    },
    {
      "cell_type": "markdown",
      "metadata": {
        "id": "TbG9km9sm36l",
        "colab_type": "text"
      },
      "source": [
        "# Imports data and print image array[0] "
      ]
    },
    {
      "cell_type": "code",
      "metadata": {
        "id": "dMjrOqHIdn2L",
        "colab_type": "code",
        "outputId": "4c57785d-4028-482f-dcbd-d3fc958de391",
        "colab": {
          "base_uri": "https://localhost:8080/",
          "height": 34
        }
      },
      "source": [
        "%tensorflow_version 2.x\n",
        "\n",
        "import tensorflow as tf\n",
        "\n",
        "from tensorflow import keras\n",
        "from tensorflow.keras.models import Sequential\n",
        "from tensorflow.keras.layers import Dense, Flatten\n",
        "\n",
        "\n",
        "import numpy as np\n",
        "import PIL.Image as Image\n",
        "import matplotlib.pylab as plt\n",
        "\n",
        "\n",
        "fashion_mnist = keras.datasets.fashion_mnist\n",
        "(train_images, train_labels), (test_images, test_labels) = fashion_mnist.load_data()\n",
        "class_names = ['Man', 'Woman','Man', 'Woman','Man', 'Woman','Man', 'Woman','Woman', 'Woman']\n",
        "class_names2 = ['T-shirt/top', 'Trouser', 'Pullover', 'Dress', 'Coat','Sandal', 'Shirt', 'Sneaker', 'Bag', 'Ankle boot']\n",
        "train_images.shape\n",
        "\n"
      ],
      "execution_count": 37,
      "outputs": [
        {
          "output_type": "execute_result",
          "data": {
            "text/plain": [
              "(60000, 28, 28)"
            ]
          },
          "metadata": {
            "tags": []
          },
          "execution_count": 37
        }
      ]
    },
    {
      "cell_type": "markdown",
      "metadata": {
        "id": "Cyp6p6AUxuo7",
        "colab_type": "text"
      },
      "source": [
        "# Imprimos una imagen para prueba\n"
      ]
    },
    {
      "cell_type": "code",
      "metadata": {
        "id": "HrgrhEJuxzwn",
        "colab_type": "code",
        "colab": {
          "base_uri": "https://localhost:8080/",
          "height": 265
        },
        "outputId": "538bbbd2-691d-4b5f-980f-1e74e14e3242"
      },
      "source": [
        "plt.figure()\n",
        "plt.imshow(train_images[0])\n",
        "plt.grid(False)\n",
        "plt.show()"
      ],
      "execution_count": 38,
      "outputs": [
        {
          "output_type": "display_data",
          "data": {
            "image/png": "[encoded data removed]",
            "text/plain": [
              "<Figure size 432x288 with 1 Axes>"
            ]
          },
          "metadata": {
            "tags": []
          }
        }
      ]
    },
    {
      "cell_type": "markdown",
      "metadata": {
        "id": "uIXD-K-lCYKm",
        "colab_type": "text"
      },
      "source": [
        "# El set de datos debe ser pre-procesada antes de entrenar la red"
      ]
    },
    {
      "cell_type": "code",
      "metadata": {
        "id": "N-JZr2E7CU9X",
        "colab_type": "code",
        "colab": {}
      },
      "source": [
        "train_images = train_images / 255.0\n",
        "test_images = test_images / 255.0"
      ],
      "execution_count": 0,
      "outputs": []
    },
    {
      "cell_type": "markdown",
      "metadata": {
        "id": "YDFTdrpJhgeT",
        "colab_type": "text"
      },
      "source": [
        "# Desplegamos la data para verificar que este en el formato que necesitamos\n"
      ]
    },
    {
      "cell_type": "code",
      "metadata": {
        "id": "2HcPr749xi8s",
        "colab_type": "code",
        "colab": {
          "base_uri": "https://localhost:8080/",
          "height": 589
        },
        "outputId": "e54691fd-c826-488d-fca8-b56e759c3974"
      },
      "source": [
        "plt.figure(figsize=(10,10))\n",
        "for i in range(25):\n",
        "    plt.subplot(5,5,i+1)\n",
        "    plt.xticks([])\n",
        "    plt.yticks([])\n",
        "    plt.grid(False)\n",
        "    plt.imshow(train_images[i], cmap=plt.cm.binary)\n",
        "    plt.xlabel(class_names[train_labels[i]])\n",
        "plt.show()"
      ],
      "execution_count": 40,
      "outputs": [
        {
          "output_type": "display_data",
          "data": {
            "image/png": "[encoded data removed]",
            "text/plain": [
              "<Figure size 720x720 with 25 Axes>"
            ]
          },
          "metadata": {
            "tags": []
          }
        }
      ]
    },
    {
      "cell_type": "markdown",
      "metadata": {
        "id": "T8UxRNJ3yDRq",
        "colab_type": "text"
      },
      "source": [
        "# Construimos el modelo \n"
      ]
    },
    {
      "cell_type": "code",
      "metadata": {
        "id": "fH4M-G8GyRms",
        "colab_type": "code",
        "colab": {}
      },
      "source": [
        "model = keras.Sequential([\n",
        "    keras.layers.Flatten(input_shape=(28, 28)),\n",
        "    keras.layers.Dense(256, activation='relu'),\n",
        "    keras.layers.Dense(128, activation='relu'),\n",
        "    keras.layers.Dense(10, activation='sigmoid')\n",
        "])"
      ],
      "execution_count": 0,
      "outputs": []
    },
    {
      "cell_type": "markdown",
      "metadata": {
        "id": "MPaFf11CMQwT",
        "colab_type": "text"
      },
      "source": [
        "##Compile model\n"
      ]
    },
    {
      "cell_type": "code",
      "metadata": {
        "id": "PIfFLq3Hd8rb",
        "colab_type": "code",
        "colab": {}
      },
      "source": [
        "model.compile(optimizer='adam',\n",
        "              loss='sparse_categorical_crossentropy',\n",
        "              metrics=['accuracy'])"
      ],
      "execution_count": 0,
      "outputs": []
    },
    {
      "cell_type": "markdown",
      "metadata": {
        "id": "xAynNHum1vPI",
        "colab_type": "text"
      },
      "source": [
        "# Entrenamos el modelo\n"
      ]
    },
    {
      "cell_type": "code",
      "metadata": {
        "id": "5H9hLXvOedVi",
        "colab_type": "code",
        "outputId": "b98d9f96-f4ab-49eb-fe52-f35ca532d82f",
        "colab": {
          "base_uri": "https://localhost:8080/",
          "height": 404
        }
      },
      "source": [
        "model.fit(train_images, train_labels, epochs=10)"
      ],
      "execution_count": 58,
      "outputs": [
        {
          "output_type": "stream",
          "text": [
            "Train on 60000 samples\n",
            "Epoch 1/10\n",
            "60000/60000 [==============================] - 6s 99us/sample - loss: 0.5031 - accuracy: 0.8193\n",
            "Epoch 2/10\n",
            "60000/60000 [==============================] - 5s 80us/sample - loss: 0.3642 - accuracy: 0.8663\n",
            "Epoch 3/10\n",
            "60000/60000 [==============================] - 5s 80us/sample - loss: 0.3299 - accuracy: 0.8790\n",
            "Epoch 4/10\n",
            "60000/60000 [==============================] - 5s 83us/sample - loss: 0.3057 - accuracy: 0.8856\n",
            "Epoch 5/10\n",
            "60000/60000 [==============================] - 5s 80us/sample - loss: 0.2861 - accuracy: 0.8924\n",
            "Epoch 6/10\n",
            "60000/60000 [==============================] - 5s 82us/sample - loss: 0.2735 - accuracy: 0.8984\n",
            "Epoch 7/10\n",
            "60000/60000 [==============================] - 5s 81us/sample - loss: 0.2586 - accuracy: 0.9029\n",
            "Epoch 8/10\n",
            "60000/60000 [==============================] - 5s 81us/sample - loss: 0.2466 - accuracy: 0.9068\n",
            "Epoch 9/10\n",
            "60000/60000 [==============================] - 5s 79us/sample - loss: 0.2387 - accuracy: 0.9088\n",
            "Epoch 10/10\n",
            "60000/60000 [==============================] - 5s 82us/sample - loss: 0.2283 - accuracy: 0.9136\n"
          ],
          "name": "stdout"
        },
        {
          "output_type": "execute_result",
          "data": {
            "text/plain": [
              "<tensorflow.python.keras.callbacks.History at 0x7f8fb5146198>"
            ]
          },
          "metadata": {
            "tags": []
          },
          "execution_count": 58
        }
      ]
    },
    {
      "cell_type": "code",
      "metadata": {
        "id": "OEKjU5W2fnZh",
        "colab_type": "code",
        "colab": {
          "base_uri": "https://localhost:8080/",
          "height": 70
        },
        "outputId": "f355e73e-87a8-4e4e-e350-d0bc465a4f3f"
      },
      "source": [
        "test_loss, test_acc = model.evaluate(test_images,  test_labels, verbose=2)\n",
        "\n",
        "print('\\nTest accuracy:', test_acc)"
      ],
      "execution_count": 59,
      "outputs": [
        {
          "output_type": "stream",
          "text": [
            "10000/10000 - 0s - loss: 0.3370 - accuracy: 0.8835\n",
            "\n",
            "Test accuracy: 0.8835\n"
          ],
          "name": "stdout"
        }
      ]
    },
    {
      "cell_type": "code",
      "metadata": {
        "id": "JX71c_gtel2k",
        "colab_type": "code",
        "outputId": "402cf603-2066-43fb-e0e1-ec1e71e7561b",
        "colab": {
          "base_uri": "https://localhost:8080/",
          "height": 197
        }
      },
      "source": [
        "def plot_image(i, predictions_array, true_label, img):\n",
        "  predictions_array, true_label, img = predictions_array, true_label[i], img[i]\n",
        "  plt.grid(False)\n",
        "  plt.xticks([])\n",
        "  plt.yticks([])\n",
        "\n",
        "  plt.imshow(img, cmap=plt.cm.binary)\n",
        "\n",
        "  predicted_label = np.argmax(predictions_array)\n",
        "  if predicted_label == true_label:\n",
        "    color = 'blue'\n",
        "  else:\n",
        "    color = 'red'\n",
        "\n",
        "  plt.xlabel(\"{}\".format(class_names[predicted_label],),\n",
        "                                color=color)\n",
        "\n",
        "predictions = model.predict(test_images)  \n",
        "\n",
        "i = 200\n",
        "plt.figure(figsize=(6,3))\n",
        "plt.subplot(1,2,1)\n",
        "plot_image(i, predictions[i], test_labels, test_images)\n",
        "plt.show()"
      ],
      "execution_count": 64,
      "outputs": [
        {
          "output_type": "display_data",
          "data": {
            "image/png": "[encoded data removed]",
            "text/plain": [
              "<Figure size 432x216 with 1 Axes>"
            ]
          },
          "metadata": {
            "tags": []
          }
        }
      ]
    }
  ]
}