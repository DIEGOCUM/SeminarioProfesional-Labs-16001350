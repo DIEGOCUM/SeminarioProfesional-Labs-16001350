{
  "nbformat": 4,
  "nbformat_minor": 0,
  "metadata": {
    "colab": {
      "name": "16001350-Lab5RNNNormalizingAndCuDNNLSTM.ipynb",
      "provenance": [],
      "authorship_tag": "ABX9TyOaRHDmEjG3LIl4lWYfWJG1",
      "include_colab_link": true
    },
    "kernelspec": {
      "name": "python3",
      "display_name": "Python 3"
    },
    "accelerator": "GPU"
  },
  "cells": [
    {
      "cell_type": "markdown",
      "metadata": {
        "id": "view-in-github",
        "colab_type": "text"
      },
      "source": [
        "<a href=\"https://colab.research.google.com/github/DIEGOCUM/SeminarioProfesional-Labs-16001350/blob/master/16001350_Lab5RNNNormalizingAndCuDNNLSTM.ipynb\" target=\"_parent\"><img src=\"https://colab.research.google.com/assets/colab-badge.svg\" alt=\"Open In Colab\"/></a>"
      ]
    },
    {
      "cell_type": "markdown",
      "metadata": {
        "id": "h1fWnx3aKEqk",
        "colab_type": "text"
      },
      "source": [
        "#Importar TensorFlow\n"
      ]
    },
    {
      "cell_type": "code",
      "metadata": {
        "id": "VWNHwf6pCBr9",
        "colab_type": "code",
        "colab": {}
      },
      "source": [
        "# RNN Order of dart has weigth and order \n",
        "# Tokenizer data, some people made a neural network . a neural network made some people\n",
        "#  sequential data, the cell pass to the next layer to the next recurrent \n",
        "# also down to the next node to de specific recurrent layer, but its learning by the last one\n",
        "# cell has \n",
        "  # x  -> forget Gate (what we wanna forget of the previos gate) -> add What (what i wanna add) -> what output to next node \n",
        "  # lstm long shor term memory\n",
        "  # output layer need be a dense layer (before output layer)\n",
        "\n",
        "\n",
        "import tensorflow as tf\n",
        "from tensorflow.keras.models import Sequential\n",
        "from tensorflow.keras.layers import Dense, Dropout, LSTM, CuDNNLSTM\n",
        "\n"
      ],
      "execution_count": 0,
      "outputs": []
    },
    {
      "cell_type": "markdown",
      "metadata": {
        "id": "Xcmsv7rHKNUL",
        "colab_type": "text"
      },
      "source": [
        "#Import keras mis\n",
        "\n"
      ]
    },
    {
      "cell_type": "code",
      "metadata": {
        "id": "r_QYSFWTC_2t",
        "colab_type": "code",
        "outputId": "d909ed1c-5438-4ecd-8b4c-eecdb8e0148e",
        "colab": {
          "base_uri": "https://localhost:8080/",
          "height": 85
        }
      },
      "source": [
        "mnist = tf.keras.datasets.mnist\n",
        "(x_train, y_train),(x_test, y_test) = mnist.load_data()\n",
        "print(x_train.shape)\n",
        "print(x_train[0].shape) \n",
        "# 60000 images of 28x28\n",
        "# this is in sequences, what is 28x28? (28 rows of 28 columns)\n",
        "# not normalizing the data\n",
        "x_train = x_train/255.0\n",
        "x_test = x_test/255.0\n",
        "y_train = y_train/255.0\n",
        "y_test = y_test/255.0 \n",
        "#scale 0 to 1"
      ],
      "execution_count": 4,
      "outputs": [
        {
          "output_type": "stream",
          "text": [
            "Downloading data from https://storage.googleapis.com/tensorflow/tf-keras-datasets/mnist.npz\n",
            "11493376/11490434 [==============================] - 0s 0us/step\n",
            "(60000, 28, 28)\n",
            "(28, 28)\n"
          ],
          "name": "stdout"
        }
      ]
    },
    {
      "cell_type": "markdown",
      "metadata": {
        "id": "QtUasgxvKUJ9",
        "colab_type": "text"
      },
      "source": [
        "#Build the model"
      ]
    },
    {
      "cell_type": "code",
      "metadata": {
        "id": "UQKX0ZkpDn3j",
        "colab_type": "code",
        "colab": {}
      },
      "source": [
        "model = Sequential()\n",
        "#how many cells of lstm we wanna have (128)\n",
        "#Rectified Linear Unit (ReLU) \n",
        "# Do we wanna to this layer to output sequences or return something flat (dense layer need sequences)\n",
        "model.add(CuDNNLSTM(128, input_shape=(x_train.shape[1:]), return_sequences=True))\n",
        "model.add(Dropout(0.2))\n",
        "# 128 layer\n",
        "model.add(CuDNNLSTM(128))\n",
        "model.add(Dropout(0.2))\n",
        "# 32 layer\n",
        "model.add(Dense(32,activation='relu'))\n",
        "model.add(Dropout(0.2))\n",
        "# 32 layer\n",
        "model.add(Dense(10,activation='softmax'))\n",
        "\n",
        "# Large steps of decay( small steps)\n",
        "opt = tf.keras.optimizers.Adam(lr=1e-3, decay=1e-5)"
      ],
      "execution_count": 0,
      "outputs": []
    },
    {
      "cell_type": "markdown",
      "metadata": {
        "id": "0bSpv98tK4CY",
        "colab_type": "text"
      },
      "source": [
        "# Entrenando la data Data\n"
      ]
    },
    {
      "cell_type": "code",
      "metadata": {
        "id": "2LWygayDGq3f",
        "colab_type": "code",
        "outputId": "a808be55-6093-4ff0-ad60-dce6a3ddd0ab",
        "colab": {
          "base_uri": "https://localhost:8080/",
          "height": 153
        }
      },
      "source": [
        "model.compile(loss='sparse_categorical_crossentropy',\n",
        "              optimizer=opt,\n",
        "              metrics=['accuracy'])\n",
        "model.fit(x_train, y_train, epochs=3, validation_data=(x_test, y_test))"
      ],
      "execution_count": 7,
      "outputs": [
        {
          "output_type": "stream",
          "text": [
            "Train on 60000 samples, validate on 10000 samples\n",
            "Epoch 1/3\n",
            "60000/60000 [==============================] - 27s 445us/sample - loss: 0.0062 - acc: 0.0986 - val_loss: 0.0000e+00 - val_acc: 0.0980\n",
            "Epoch 2/3\n",
            "60000/60000 [==============================] - 12s 207us/sample - loss: 2.7988e-06 - acc: 0.0987 - val_loss: 0.0000e+00 - val_acc: 0.0980\n",
            "Epoch 3/3\n",
            "60000/60000 [==============================] - 12s 205us/sample - loss: 3.3137e-06 - acc: 0.0987 - val_loss: 0.0000e+00 - val_acc: 0.0980\n"
          ],
          "name": "stdout"
        },
        {
          "output_type": "execute_result",
          "data": {
            "text/plain": [
              "<tensorflow.python.keras.callbacks.History at 0x7fb829026cf8>"
            ]
          },
          "metadata": {
            "tags": []
          },
          "execution_count": 7
        }
      ]
    },
    {
      "cell_type": "code",
      "metadata": {
        "id": "-RClWGEwJ3dY",
        "colab_type": "code",
        "outputId": "a5b41da4-cfda-4b49-d91e-66e92eb4ab6d",
        "colab": {
          "base_uri": "https://localhost:8080/",
          "height": 215
        }
      },
      "source": [
        "loss, accuracy = model.evaluate(test_batches)\n",
        "\n",
        "print(\"Loss: \", loss)\n",
        "print(\"Accuracy: \", accuracy)"
      ],
      "execution_count": 8,
      "outputs": [
        {
          "output_type": "error",
          "ename": "NameError",
          "evalue": "ignored",
          "traceback": [
            "\u001b[0;31m---------------------------------------------------------------------------\u001b[0m",
            "\u001b[0;31mNameError\u001b[0m                                 Traceback (most recent call last)",
            "\u001b[0;32m<ipython-input-8-de94dc1600ef>\u001b[0m in \u001b[0;36m<module>\u001b[0;34m()\u001b[0m\n\u001b[0;32m----> 1\u001b[0;31m \u001b[0mloss\u001b[0m\u001b[0;34m,\u001b[0m \u001b[0maccuracy\u001b[0m \u001b[0;34m=\u001b[0m \u001b[0mmodel\u001b[0m\u001b[0;34m.\u001b[0m\u001b[0mevaluate\u001b[0m\u001b[0;34m(\u001b[0m\u001b[0mtest_batches\u001b[0m\u001b[0;34m)\u001b[0m\u001b[0;34m\u001b[0m\u001b[0;34m\u001b[0m\u001b[0m\n\u001b[0m\u001b[1;32m      2\u001b[0m \u001b[0;34m\u001b[0m\u001b[0m\n\u001b[1;32m      3\u001b[0m \u001b[0mprint\u001b[0m\u001b[0;34m(\u001b[0m\u001b[0;34m\"Loss: \"\u001b[0m\u001b[0;34m,\u001b[0m \u001b[0mloss\u001b[0m\u001b[0;34m)\u001b[0m\u001b[0;34m\u001b[0m\u001b[0;34m\u001b[0m\u001b[0m\n\u001b[1;32m      4\u001b[0m \u001b[0mprint\u001b[0m\u001b[0;34m(\u001b[0m\u001b[0;34m\"Accuracy: \"\u001b[0m\u001b[0;34m,\u001b[0m \u001b[0maccuracy\u001b[0m\u001b[0;34m)\u001b[0m\u001b[0;34m\u001b[0m\u001b[0;34m\u001b[0m\u001b[0m\n",
            "\u001b[0;31mNameError\u001b[0m: name 'test_batches' is not defined"
          ]
        }
      ]
    }
  ]
}